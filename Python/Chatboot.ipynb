{
  "nbformat": 4,
  "nbformat_minor": 0,
  "metadata": {
    "colab": {
      "provenance": [],
      "authorship_tag": "ABX9TyPH8KFi7tX7kaNUcKib+7H0",
      "include_colab_link": true
    },
    "kernelspec": {
      "name": "python3",
      "display_name": "Python 3"
    },
    "language_info": {
      "name": "python"
    }
  },
  "cells": [
    {
      "cell_type": "markdown",
      "metadata": {
        "id": "view-in-github",
        "colab_type": "text"
      },
      "source": [
        "<a href=\"https://colab.research.google.com/github/sholikun32/vistTeam/blob/main/Python/Chatboot.ipynb\" target=\"_parent\"><img src=\"https://colab.research.google.com/assets/colab-badge.svg\" alt=\"Open In Colab\"/></a>"
      ]
    },
    {
      "cell_type": "markdown",
      "source": [
        "# **Chatboot PAKAI RASY**"
      ],
      "metadata": {
        "id": "vzZWpy_RQvup"
      }
    },
    {
      "cell_type": "markdown",
      "source": [
        "**1.PROBLEM SCOPING:**\n",
        "\n",
        "WHAT  : Topik apa yang dibahas oleh AI Chatbot?\n",
        "\n",
        "WHERE: Di platform mana AI Chatbot ini dapat digunakan?\n",
        "\n",
        "WHO  : Siapa yang dapat menggunakan AI Chatbot?\n",
        "\n",
        "WHY  : Mengapa kita perlu menggunakan AI Chatbot?\n",
        "\n",
        "WHEN : Kapan kita dapat menggunakan AI Chatbot?\n",
        "\n",
        "HOW  : Bagaimana proses  membuat AI Chatbot?\n"
      ],
      "metadata": {
        "id": "8Ypo5AXDQ3mM"
      }
    },
    {
      "cell_type": "markdown",
      "source": [
        "**2.DATA ACQUISITION:**\n"
      ],
      "metadata": {
        "id": "MO6XFFPjrgj0"
      }
    },
    {
      "cell_type": "markdown",
      "source": [
        "Pada program projek ChatBOOT kita akan mengambil teks artikel dari situs internet menggunakan tools newspaper3k. Kami menggunakan newpaper3k karena memiliki keunggulan yaitu Kerangka kerja dalam mengunduh artikel yang multi-thread, dapat mengidentifikasi URL baru, dan mampu mengekstraksi teks dari HTML. dan untuk menghasilkan output berupa suara kami menggunakan gtss"
      ],
      "metadata": {
        "id": "BVMGQ9MlMjsc"
      }
    },
    {
      "cell_type": "code",
      "execution_count": 1,
      "metadata": {
        "id": "Q9_mnPq6NPUy",
        "colab": {
          "base_uri": "https://localhost:8080/"
        },
        "outputId": "c892a8f5-9a54-4553-d72e-ee4ff3b8c115"
      },
      "outputs": [
        {
          "output_type": "stream",
          "name": "stdout",
          "text": [
            "Requirement already satisfied: gtts in /usr/local/lib/python3.10/dist-packages (2.3.2)\n",
            "Requirement already satisfied: requests<3,>=2.27 in /usr/local/lib/python3.10/dist-packages (from gtts) (2.31.0)\n",
            "Requirement already satisfied: click<8.2,>=7.1 in /usr/local/lib/python3.10/dist-packages (from gtts) (8.1.7)\n",
            "Requirement already satisfied: charset-normalizer<4,>=2 in /usr/local/lib/python3.10/dist-packages (from requests<3,>=2.27->gtts) (3.2.0)\n",
            "Requirement already satisfied: idna<4,>=2.5 in /usr/local/lib/python3.10/dist-packages (from requests<3,>=2.27->gtts) (3.4)\n",
            "Requirement already satisfied: urllib3<3,>=1.21.1 in /usr/local/lib/python3.10/dist-packages (from requests<3,>=2.27->gtts) (2.0.4)\n",
            "Requirement already satisfied: certifi>=2017.4.17 in /usr/local/lib/python3.10/dist-packages (from requests<3,>=2.27->gtts) (2023.7.22)\n"
          ]
        }
      ],
      "source": [
        "!pip install gtts"
      ]
    },
    {
      "cell_type": "code",
      "execution_count": 2,
      "metadata": {
        "colab": {
          "base_uri": "https://localhost:8080/"
        },
        "id": "6KjVe_rq04qd",
        "outputId": "17f06675-e3a8-42ec-bc03-2fe175421734"
      },
      "outputs": [
        {
          "output_type": "stream",
          "name": "stdout",
          "text": [
            "Requirement already satisfied: newspaper3k in /usr/local/lib/python3.10/dist-packages (0.2.8)\n",
            "Requirement already satisfied: beautifulsoup4>=4.4.1 in /usr/local/lib/python3.10/dist-packages (from newspaper3k) (4.11.2)\n",
            "Requirement already satisfied: Pillow>=3.3.0 in /usr/local/lib/python3.10/dist-packages (from newspaper3k) (9.4.0)\n",
            "Requirement already satisfied: PyYAML>=3.11 in /usr/local/lib/python3.10/dist-packages (from newspaper3k) (6.0.1)\n",
            "Requirement already satisfied: cssselect>=0.9.2 in /usr/local/lib/python3.10/dist-packages (from newspaper3k) (1.2.0)\n",
            "Requirement already satisfied: lxml>=3.6.0 in /usr/local/lib/python3.10/dist-packages (from newspaper3k) (4.9.3)\n",
            "Requirement already satisfied: nltk>=3.2.1 in /usr/local/lib/python3.10/dist-packages (from newspaper3k) (3.8.1)\n",
            "Requirement already satisfied: requests>=2.10.0 in /usr/local/lib/python3.10/dist-packages (from newspaper3k) (2.31.0)\n",
            "Requirement already satisfied: feedparser>=5.2.1 in /usr/local/lib/python3.10/dist-packages (from newspaper3k) (6.0.10)\n",
            "Requirement already satisfied: tldextract>=2.0.1 in /usr/local/lib/python3.10/dist-packages (from newspaper3k) (3.4.4)\n",
            "Requirement already satisfied: feedfinder2>=0.0.4 in /usr/local/lib/python3.10/dist-packages (from newspaper3k) (0.0.4)\n",
            "Requirement already satisfied: jieba3k>=0.35.1 in /usr/local/lib/python3.10/dist-packages (from newspaper3k) (0.35.1)\n",
            "Requirement already satisfied: python-dateutil>=2.5.3 in /usr/local/lib/python3.10/dist-packages (from newspaper3k) (2.8.2)\n",
            "Requirement already satisfied: tinysegmenter==0.3 in /usr/local/lib/python3.10/dist-packages (from newspaper3k) (0.3)\n",
            "Requirement already satisfied: soupsieve>1.2 in /usr/local/lib/python3.10/dist-packages (from beautifulsoup4>=4.4.1->newspaper3k) (2.4.1)\n",
            "Requirement already satisfied: six in /usr/local/lib/python3.10/dist-packages (from feedfinder2>=0.0.4->newspaper3k) (1.16.0)\n",
            "Requirement already satisfied: sgmllib3k in /usr/local/lib/python3.10/dist-packages (from feedparser>=5.2.1->newspaper3k) (1.0.0)\n",
            "Requirement already satisfied: click in /usr/local/lib/python3.10/dist-packages (from nltk>=3.2.1->newspaper3k) (8.1.7)\n",
            "Requirement already satisfied: joblib in /usr/local/lib/python3.10/dist-packages (from nltk>=3.2.1->newspaper3k) (1.3.2)\n",
            "Requirement already satisfied: regex>=2021.8.3 in /usr/local/lib/python3.10/dist-packages (from nltk>=3.2.1->newspaper3k) (2023.6.3)\n",
            "Requirement already satisfied: tqdm in /usr/local/lib/python3.10/dist-packages (from nltk>=3.2.1->newspaper3k) (4.66.1)\n",
            "Requirement already satisfied: charset-normalizer<4,>=2 in /usr/local/lib/python3.10/dist-packages (from requests>=2.10.0->newspaper3k) (3.2.0)\n",
            "Requirement already satisfied: idna<4,>=2.5 in /usr/local/lib/python3.10/dist-packages (from requests>=2.10.0->newspaper3k) (3.4)\n",
            "Requirement already satisfied: urllib3<3,>=1.21.1 in /usr/local/lib/python3.10/dist-packages (from requests>=2.10.0->newspaper3k) (2.0.4)\n",
            "Requirement already satisfied: certifi>=2017.4.17 in /usr/local/lib/python3.10/dist-packages (from requests>=2.10.0->newspaper3k) (2023.7.22)\n",
            "Requirement already satisfied: requests-file>=1.4 in /usr/local/lib/python3.10/dist-packages (from tldextract>=2.0.1->newspaper3k) (1.5.1)\n",
            "Requirement already satisfied: filelock>=3.0.8 in /usr/local/lib/python3.10/dist-packages (from tldextract>=2.0.1->newspaper3k) (3.12.2)\n"
          ]
        }
      ],
      "source": [
        "!pip install newspaper3k #mengambil teks dari internet menggunakan tools newspaper3k"
      ]
    },
    {
      "cell_type": "markdown",
      "source": [
        "**Import library:**\n",
        "\n",
        "Library Yang di import antara lain:\n",
        "\n",
        "\n",
        "1.   import random digunakan untuk membantu dalam membuat list kata agar chattbot yang dibuat tidak monoton dengan respon jawabannya.\n",
        "\n",
        "2.  import nltk digunakan untuk tokenisasi (library yang menyediakan corpus yang akan kita pakai dalam membuat chattbot).\n",
        "\n",
        "3.  import string digunakan untuk keperluan data bertype string.\n",
        "\n",
        "4.  from sklearn.feature_extraction.text import CountVectorizer digunakan untuk ekstraksi fitur (atau vektorisasi).\n",
        "\n",
        "5.  from sklearn.metrics.pairwise import cosine_similarity digunakan untuk menghitung kata yang cocok dengan yang di input user terhadap respon dari Bot.\n",
        "\n",
        "6.  import numpy as np merupakan library Python dasar untuk perhitungan matematis dan ilmiah.\n",
        "\n",
        "7.  import warnings digunakan untuk mendeteksi program jika terjadi error\n",
        "\n",
        "8.  warnings.filterwarnings('ignore') digunakan untuk mendeteksi program jika terjadi error.\n",
        "\n"
      ],
      "metadata": {
        "id": "ksEWS8671fzs"
      }
    },
    {
      "cell_type": "code",
      "source": [
        "# Import library\n",
        "from newspaper import Article\n",
        "import random\n",
        "import nltk\n",
        "import string\n",
        "from sklearn.feature_extraction.text import CountVectorizer\n",
        "from sklearn.metrics.pairwise import cosine_similarity\n",
        "import numpy as np\n",
        "import warnings\n",
        "warnings.filterwarnings('ignore')\n",
        "\n",
        "from gtts import gTTS\n",
        "import IPython.display as ipd\n",
        "import time\n",
        "from io import BytesIO"
      ],
      "metadata": {
        "id": "-z7LAqVX1gb7"
      },
      "execution_count": 3,
      "outputs": []
    },
    {
      "cell_type": "markdown",
      "source": [
        " Unduh paket punkt,\n",
        "\n",
        " Setelah menjalankan kode, output akan mengatakan, \"True\""
      ],
      "metadata": {
        "id": "kPtOEMtLVAGh"
      }
    },
    {
      "cell_type": "code",
      "source": [
        "nltk.download('punkt', quiet=True)"
      ],
      "metadata": {
        "colab": {
          "base_uri": "https://localhost:8080/"
        },
        "id": "eflKRTd21nGn",
        "outputId": "fd438a4c-a803-4b8c-bab0-afd6988c81ad"
      },
      "execution_count": 4,
      "outputs": [
        {
          "output_type": "execute_result",
          "data": {
            "text/plain": [
              "True"
            ]
          },
          "metadata": {},
          "execution_count": 4
        }
      ]
    },
    {
      "cell_type": "markdown",
      "source": [
        "**(Membuat korpus dengan mendownload artikel dari sebuah link)**\n"
      ],
      "metadata": {
        "id": "MvTQ4sWD1tZW"
      }
    },
    {
      "cell_type": "markdown",
      "source": [
        "Langah selanjutnya yaitu membuat corpus dengan mendownload artikel dari situs web,"
      ],
      "metadata": {
        "id": "51ELQrSzVnU6"
      }
    },
    {
      "cell_type": "code",
      "source": [
        "from newspaper import Article\n",
        "\n",
        "# Daftar URL artikel yang ingin diambil\n",
        "urls = [\n",
        "    'https://www.halodoc.com/artikel/4-cara-menjaga-kesehatan-saluran-pernapasan-dada',\n",
        "    'https://www.halodoc.com/artikel/kenali-gangguan-pernafasan-bronkopneumonia-pada-anak',\n",
        "    'https://www.halodoc.com/artikel/kenali-perbedaan-ispa-dan-bronkopneumonia-pada-anak',\n",
        "    'https://www.halodoc.com/artikel/kata-dokter-langkah-pengobatan-ispa-yang-tepat',\n",
        "    'https://www.halodoc.com/artikel/cegah-polusi-udara-ini-rekomendasi-masker-medis-untuk-anak',\n",
        "    'https://www.halodoc.com/artikel/5-obat-herbal-untuk-mengatasi-tenggorokan-kering-akibat-polusi-udara',\n",
        "    'https://www.halodoc.com/artikel/ini-rekomendasi-masker-medis-untuk-menangkal-polusi-udara'\n",
        "\n",
        "\n",
        "]\n",
        "\n",
        "# Loop melalui setiap URL artikel\n",
        "for url in urls:\n",
        "    # Buat objek artikel\n",
        "    article = Article(url)\n",
        "\n",
        "    # Download dan parse artikel\n",
        "    article.download()\n",
        "    article.parse()\n",
        "    article.nlp()\n",
        "\n",
        "    # Ambil teks dari artikel\n",
        "    corpus = article.text\n",
        "\n",
        "    # Cetak teks artikel\n",
        "    print(corpus)\n",
        "\n"
      ],
      "metadata": {
        "colab": {
          "base_uri": "https://localhost:8080/"
        },
        "id": "eXRbMnSfVz_X",
        "outputId": "fac66991-346b-4805-f981-739ff40f0c9b"
      },
      "execution_count": 5,
      "outputs": [
        {
          "output_type": "stream",
          "name": "stdout",
          "text": [
            "“Tahukah kamu menjaga saluran pernapasan dada sama pentingnya dengan menjaga kesehatan organ lain? Saluran pernapasan dada juga bisa menua seiring dengan usia dan pola hidup yang kamu jalani sehari-hari. Menjauhi rokok, berolahraga, dan bernapas dengan benar dapat membantu menjaga kesehatan saluran pernapasan dada.”\n",
            "\n",
            "Halodoc, Jakarta – Seperti halnya jantung, persendian, dan bagian lain dari tubuh, saluran pernapasan dada pun akan menua seiring dengan pertambahan usia. Saluran pernapasan dada akan menjadi kurang fleksibel dan kehilangan kekuatannya, yang bisa membuatnya lebih sulit untuk bernapas.\n",
            "\n",
            "Dengan menerapkan kebiasaan sehat tertentu, kamu dapat menjaga kesehatan organ pernapasan lebih baik. Kamu juga bisa membuatnya bekerja secara optimal, bahkan hingga usia lanjut.\n",
            "\n",
            "Cara Tepat Menjaga Saluran Pernapasan Dada\n",
            "\n",
            "Bagaimana cara menjaga kesehatan saluran pernapasan dada? Cara-cara berikut ini bisa kamu lakukan. Di antaranya:\n",
            "\n",
            "1. Jauhi Rokok\n",
            "\n",
            "Kamu mungkin sudah sering mendengar merokok dapat meningkatkan risiko kanker paru-paru, serta penyakit saluran pernapasan lainnya. Setiap kali merokok, kamu menghirup ribuan bahan kimia ke dalam paru-paru, termasuk nikotin, karbon monoksida, dan tar.\n",
            "\n",
            "Racun ini dapat merusak paru-paru dan saluran pernapasan, termasuk meningkatkan lendir, mempersulit paru-paru untuk membersihkan diri, serta mengiritasinya. Secara bertahap, saluran udara pernapasan menyempit, sehingga membuat kamu sulit menarik napas. Merokok juga menyebabkan paru-paru menua lebih cepat.\n",
            "\n",
            "Akhirnya, bahan kimia dapat mengubah sel paru-paru dari normal menjadi kanker. Kalau kamu ingin menjaga kesehatan saluran pernapasan dada, salah satu caranya adalah dengan menjauhi rokok.\n",
            "\n",
            "2. Olahraga\n",
            "\n",
            "Selain menghindari rokok, berolahraga secara teratur adalah hal terpenting yang dapat dilakukan untuk menjaga kesehatan organ pernapasan. Olahraga tidak hanya membuat tubuh tetap bugar, tetapi juga meningkatkan kapasitas paru-paru.\n",
            "\n",
            "Saat berolahraga, jantung akan berdetak lebih cepat, sehingga paru-paru bekerja lebih keras. Tubuh membutuhkan lebih banyak oksigen untuk mengisi bahan bakar otot. Paru-paru akan meningkatkan aktivitasnya untuk mengirimkan oksigen itu sambil mengeluarkan karbon dioksida tambahan.\n",
            "\n",
            "Menciptakan paru-paru yang kuat dan sehat melalui olahraga membantu kamu melawan penuaan dan penyakit dengan lebih baik. Jika di masa depan kamu mengalami penyakit paru-paru, olahraga dapat membantu memperlambat perkembangannya. selain itu, kamu juga akan tetap aktif lebih lama.\n",
            "\n",
            "3. Olahraga yang Membuat “Terengah”\n",
            "\n",
            "Selama berolahraga, pernapasan akan mengalami peningkatan dari sekitar 15 kali per menit menjadi sekitar 40 hingga 60 kali per menit. Itulah mengapa penting untuk secara teratur melakukan latihan aerobik yang membuat kamu terengah-engah.\n",
            "\n",
            "Jenis latihan ini memberikan latihan terbaik untuk paru-paru. Otot-otot di antara tulang rusuk mengembang dan berkontraksi, sehingga kantung udara di dalam paru-paru bekerja dengan cepat untuk menukar oksigen dengan karbon dioksida.\n",
            "\n",
            "Muaythai, lari, zumba, adalah jenis olahraga yang akan membuat kamu lebih terengah ketimbang olahraga lainnya. Memasukkan jenis olahraga ini ke dalam rutinitasmu akan membantu meningkatkan kapasitas dan kemampuan kerja paru-paru.\n",
            "\n",
            "4. Memperhatikan Postur dan Cara Bernapas yang Baik\n",
            "\n",
            "Paru-paru sebenarnya adalah organ lunak, sehingga kamu perlu lebih tanggap dalam menjaga kesehatan paru-paru termasuk dengan cara sederhana. Memperhatikan postur dan juga cara bernapas yang baik adalah upaya untuk menjaga kesehatan paru-paru yang merupakan bagian dari saluran pernapasan dada.\n",
            "\n",
            "Misalnya ketika duduk, posisikan tubuh tegak, sehingga memberi lebih banyak ruang bagi paru-paru. Kamu juga bisa bersandar di kursi yang stabil, mengangkat dada, dan membuka bagian depan tubuh saat hendak menarik napas dalam. Teknik sederhana ini dapat memberi paru-paru lebih banyak ruang untuk menerima oksigen.\n",
            "\n",
            "Itulah informasi mengenai cara menjaga kesehatan saluran pernapasan dada. Informasi selengkapnya mengenai kesehatan pernapasan bisa kamu tanyakan langsung ke dokter lewat aplikasi Halodoc. Tanpa perlu repot, kamu bisa berbincang dengan dokter kapan dan di mana saja. Praktis kan? Yuk, download aplikasinya sekarang juga ya!\n",
            "\n",
            "Referensi:\n",
            "\n",
            "Healthline. Diakses pada 2021. 5 Ways to Keep Your Lungs Healthy and Whole.\n",
            "\n",
            "American Lung Association. Diakses pada 2021. Exercise and Lung Health.\n",
            "Halodoc, Jakarta - Bronkus adalah organ saluran udara yang menghubungkan tenggorokan ke paru-paru. Bronkus bercabang menjadi banyak tabung udara kecil yang dikenal sebagai bronkiolus. Nah, di ujung cabang bronkiolus terdapat kantong udara kecil disebut alveoli. Di dalam alveolus, oksigen dari paru-paru dan karbondioksida ditukar melalui aliran darah.\n",
            "\n",
            "Baca Juga: Ini Bedanya Bronkitis dan Pneumonia yang Perlu Diketahui Orangtua\n",
            "\n",
            "Pneumonia adalah peradangan paru-paru yang menyebabkan alveoli justru diisi dengan cairan. Cairan ini berisiko merusak fungsi paru-paru normal, sehingga menghasilkan berbagai masalah pernapasan. Bronkopneumonia adalah bentuk pneumonia yang memengaruhi, baik alveoli di paru-paru maupun bronkus.\n",
            "\n",
            "Gejala bronkopneumonia dapat berkisar dari ringan hingga berat. Kondisi ini adalah jenis pneumonia yang sering diidap anak-anak dan penyebab utama kematian akibat infeksi paru-paru pada anak-anak berusia di bawah 5 tahun. Gejala, penyebab, komplikasi, diagnosis, pengobatan, dan pencegahan bronkopneumonia biasanya sama dengan pneumonia.\n",
            "\n",
            "Banyak kasus bronkopneumonia disebabkan oleh bakteri. Penularan bakteri ini bisa melalui bersin dan batuk. Apabila droplet bersin dan batuk terhirup oleh manusia yang sehat bisa berkembang menjadi pneumonia atau bronkopneumonia. Bakteri-bakteri penyebab penyakit tersebut yakni Staphylococcus aureus, Haemophilus influenzae, Pseudomonas aeruginosa, Escherichia coli, dan Klebsiella pneumoniae.\n",
            "\n",
            "Penularan bakteri penyebab bronkopneumonia biasanya sering terjadi di rumah sakit. Pneumonia yang terjadi di lingkungan rumah sakit mungkin juga merupakan hasil dari bakteri yang resisten terhadap antibiotik. Orang-orang yang datang ke rumah sakit untuk perawatan penyakit lain seringkali memiliki sistem kekebalan tubuh yang buruk. Anak-anak juga termasuk individu yang sistem kekebalan tubuhnya belum terbentuk sempurna, sehingga rentan terinfeksi juga. Lantas, seperti apa gejala bronkopneumonia pada anak?\n",
            "\n",
            "Gejala Bronkopneumonia pada Anak\n",
            "\n",
            "Anak-anak dan bayi dapat menunjukkan gejala yang berbeda. Namun, gejala bronkopneumonia paling umum adalah batuk-batu. Gejala lainnya dapat berupa:\n",
            "\n",
            "Jantung berdetak lebih cepat\n",
            "\n",
            "Rendahnya kadar oksigen dalam darah\n",
            "\n",
            "Otot dada terasa seperti tertarik\n",
            "\n",
            "Rewel akibat kondisi tubuh yang tidak nyaman\n",
            "\n",
            "Kehilangan nafsu makan\n",
            "\n",
            "Demam\n",
            "\n",
            "Kesulitan tidur.\n",
            "\n",
            "Jika kondisi bronkopneumonia dibiarkan berlarut-larut tanpa penanganan, Si Kecil rentan mengalami komplikasi, seperti infeksi aliran darah atau sepsis, abses paru-paru, penumpukan cairan di sekitar paru-paru, kegagalan pernapasan, sampai serangan jantung. Lantas, perawatan apa yang bisa dilakukan?\n",
            "\n",
            "Baca Juga: Kenali Infeksi Saluran Pernapasan Akibat Polusi Udara\n",
            "\n",
            "Perawatan Bronkopneumonia pada Anak\n",
            "\n",
            "Karena bronkopneumonia sebagian besar disebabkan oleh bakteri, maka pemberian antibiotik bisa dilakukan. Perawatan di rumah untuk meredakan gejala juga merupakan langkah penting dalam mengelola kondisi ini. Pastikan anak mendapat cukup cairan dan istirahat.\n",
            "\n",
            "Dokter mungkin menyarankan Tylenol untuk mengurangi demam. Inhaler atau nebulizer dapat diresepkan untuk membantu menjaga saluran udara tetap terbuka. Dalam kasus yang parah, seorang anak mungkin memerlukan rawat inap untuk menerima perawatan berupa cairan intravena, oksigen, dan terapi pernapasan.\n",
            "\n",
            "Namun, para ibu sebaiknya lebih peka terhadap kesehatan Si Kecil guna mencegah risiko berbagai penyakit yang mengintainya. Salah satu langkah pencegahan yang bisa dilakukan adalah dengan rutin mencuci tangan sebelum merawat atau menyentuh Si Kecil. Pada anak yang berusia lebih tua, orangtua perlu mengajarkan cara mencuci tangan yang benar serta melatih kebiasaan cuci tangan ini.\n",
            "\n",
            "Vaksinasi juga dapat membantu mencegah pneumonia jenis tertentu. Pastikan untuk mendapatkan suntikan flu tahunan, karena flu juga berisiko mengembangkan pneumonia. Jenis umum pneumonia bakteri dapat dicegah dengan vaksin pneumokokus yang tersedia untuk orang dewasa dan anak-anak.\n",
            "\n",
            "Baca Juga: Baru Usia 20 Hari, Radang Paru Sudah Mengincar Bayi Mungil Ini\n",
            "\n",
            "\n",
            "\n",
            "Kalau ibu curiga Si Kecil mengalami salah satu gejala diatas, tanya dokter Halodoc saja untuk memastikannya. Klik Talk to A Doctor yang ada di aplikasi Halodoc untuk menghubungi dokter kapan saja dan di mana saja via Chat, dan Voice/Video Call. Yuk, segera download aplikasi Halodoc di App Store atau Google Play!\n",
            "Halodoc, Jakarta – Anak-anak rentan mengalami gangguan atau infeksi pernapasan, termasuk infeksi saluran pernapasan akut (ISPA) dan bronkopneumonia. Kedua penyakit ini sama-sama menyerang saluran pernapasan, tetapi apa sebenarnya perbedaan antara penyakit ISPA dan bronkopneumonia? Simak ulasannya di artikel berikut!\n",
            "\n",
            "Infeksi saluran akut (ISPA) merupakan kondisi yang menyebabkan infeksi pada saluran pernapasan dan menimbulkan gejala berupa batuk dan pilek disertai demam. Umumnya, penyakit ini disebabkan oleh infeksi virus dan sangat mudah menular, terutama pada anak-anak dan lansia. Sedangkan bronkopneumonia adalah infeksi pernapasan yang disebabkan oleh virus, bakteri, ataupun jamur. Penyakit ini biasa disebut sebagai pneumonia lobularis. Meski terdengar serupa, kedua penyakit ini memiliki perbedaan.\n",
            "\n",
            "Baca juga: Ketahui Penanganan Infeksi Saluran Pernapasan Atas pada Anak\n",
            "\n",
            "Membedakan ISPA dan Bronkopneumonia\n",
            "\n",
            "ISPA dan Bronkopneumonia sama-sama menyerang saluran pernapasan. Kedua penyakit ini rentan menyerang anak-anak dan orang yang sudah lanjut usia alias lansia. Meski sekilas terlihat serupa, kedua penyakit ini nyatanya berbeda. ISPA adalah penyakit yang menyerang saluran pernapasan dan disebabkan oleh virus. Sementara bronkopneumonia merupakan jenis pneumonia akibat infeksi dan peradangan pada saluran napas utama, yaitu bronkus, akibat infeksi bakteri, virus, atau jamur.\n",
            "\n",
            "Selain itu, gejala dari kedua penyakit ini pun berbeda. Bronkopneumonia biasanya ditandai dengan gejala seperti demam, kesulitan bernapas, seperti sesak napas, nyeri dada yang mungkin memburuk dengan batuk atau bernapas dalam, batuk lender, berkeringat, menggigil, nyeri otot, mudah lelah, penurunan nafsu makan, sakit kepala, mual dan muntah, serta batuk darah.\n",
            "\n",
            "Baca juga: Mengapa Balita Rentan Terkena Infeksi Saluran Pernapasan?\n",
            "\n",
            "Sementara gejala ISPA meliputi, batuk, bersin, pilek, hidung tersumbat, nyeri tenggorokan, sesak napas, demam, sakit kepala, serta nyeri otot. Kedua penyakit ini sama sekali tidak boleh dianggap sepele karena bisa menyebabkan kondisi yang berbahaya pada anak. ISPA maupan bronkopneumonia yang diabaikan begitu saja bisa memicu komplikasi yang berbahaya, yaitu gagal napas dan berujung pada kehilangan nyawa.\n",
            "\n",
            "Bagaimana mencegah infeksi saluran pernapasan akut dan bronkopneumonia pada anak? Sejatinya, berinteraksi dengan orang-orang dapat mempermudah penularan, karenanya kalau ibu punya anak kecil, berikut ini langkah pencegahannya:\n",
            "\n",
            "Baca juga: Kenali Infeksi Saluran Pernapasan Akibat Polusi Udara\n",
            "\n",
            "Menghindari orang yang sakit.\n",
            "\n",
            "Jika anak sakit, tetap di rumah sampai tidak sakit lagi.\n",
            "\n",
            "Hindari menyentuh hidung, mata, dan mulut dengan tangan yang tidak dicuci.\n",
            "\n",
            "Tutupi batuk dan bersin, bersin, dan batuk harus ditutup dengan siku atau lengan, bukan dengan tangan.\n",
            "\n",
            "Cuci tangan sesering mungkin, dan lakukan dengan benar (20 detik atau lebih dengan sabun dan air hangat).\n",
            "\n",
            "Sebagai orang tua, modifikasi gaya hidup melalui penghentian merokok dan manajemen stres, supaya dapat menurunkan kerentanan terhadap flu biasa yang bisa berdampak pada anak.\n",
            "\n",
            "Kalau ingin mengetahui lebih banyak mengenai infeksi saluran pernapasan akut dan bronkopneumonia, bisa tanyakan langsung ke Halodoc. Dokter-dokter yang ahli di bidangnya akan berusaha memberikan solusi terbaik untukmu. Caranya, cukup download aplikasi Halodoc lewat Google Play atau App Store. Melalui fitur Contact Doctor kamu bisa memilih mengobrol lewat Video/Voice Call atau Chat.\n",
            "\n",
            "Referensi:\n",
            "\n",
            "NHS UK. Diakses pada 2020. Respiratory Tract Infection (RTIs).\n",
            "\n",
            "Healthline. Diakses pada 2020. Acute Respiratory Infection.\n",
            "\n",
            "Everyday Health. Diakses pada 2020. Pneumonia in Children.\n",
            "\n",
            "Healthline. Diakses pada 2020. Bronchopneumonia: Symptoms, Risk Factors, and Treatment.\n",
            "“ISPA yang penyebabnya adalah virus, biasanya tidak perlu mendapatkan pengobatan. Namun, kamu bisa meredakan gejalanya dengan minum obat batuk atau vitamin C.”\n",
            "\n",
            "Halodoc, Jakarta – Infeksi saluran pernapasan akut (ISPA) merupakan gangguan pernapasan yang umum terjadi. Penyakit ini dapat memengaruhi sistem pernapasan bagian atas, mulai dari sinus dan berakhir di pita suara.\n",
            "\n",
            "ISPA merupakan kondisi yang sangat berbahaya bagi anak-anak, orang lanjut usia, dan orang dengan gangguan sistem kekebalan tubuh. Lantas, bagaimana langkah tepat mengobati ISPA?\n",
            "\n",
            "Apa Itu ISPA dan Cara Mengobatinya?\n",
            "\n",
            "ISPA adalah salah satu penyakit virus yang paling umum dan biasanya menyerang hidung atau tenggorokan. Penyakit ini dapat bertahan hingga 3 minggu dan biasanya tidak memerlukan perawatan medis.\n",
            "\n",
            "Penyebab ISPA biasanya adalah virus, tapi bisa juga karena bakteri. Kebanyakan orang sembuh dari ISPA dalam beberapa minggu, tapi ada juga yang mengalami komplikasi sehingga memerlukan perawatan medis.\n",
            "\n",
            "“Untuk infeksi saluran pernapasan yang disebabkan oleh infeksi virus umumnya tidak perlu diobati, karena biasanya bisa sembuh sendiri tanpa pengobatan,” kata dr. Narjas Syam, mengutip dari kanal YouTube Halodoc.\n",
            "\n",
            "Sebagian besar pengobatan ISPA berfokus untuk menghilangkan gejala. Kamu bisa menggunakan beberapa obat berikut ini untuk meredakan gejalanya atau memperpendek durasi gejala:\n",
            "\n",
            "Obat batuk.\n",
            "\n",
            "Ekspektoran.\n",
            "\n",
            "Vitamin C.\n",
            "\n",
            "Zinc.\n",
            "\n",
            "Dalam beberapa kasus, dokter mungkin juga merekomendasikan perawatan lain, misalnya:\n",
            "\n",
            "Dekongestan hidung, untuk membantu mengurangi gejala seperti batuk dan hidung tersumbat. Obat ini juga dapat kamu kombinasi dengan antihistamin untuk membantu meredakan gejala.\n",
            "\n",
            "Menghirup uap panas dan berkumur dengan larutan garam, merupakan cara aman untuk meredakan gejala ISPA.\n",
            "\n",
            "Analgesik, seperti asetaminofen dan obat antiinflamasi nonsteroid (NSAID) dapat membantu mengurangi demam dan nyeri.\n",
            "\n",
            "Lantas, apakah penggunaan antibiotik berpengaruh pada perbaikan kondisi ISPA? Seringkali, penyebabnya adalah infeksi virus. Nyatanya, virus tidak merespons antibiotik.\n",
            "\n",
            "Namun jika kamu mengalami infeksi bakteri, seperti radang tenggorokan, kamu dapat minum antibiotik yang dokter resepkan. Biasanya dokter akan meresepkan penislin atau amoksisilin untuk meredakan radang tenggorokan.\n",
            "\n",
            "Jenis-Jenis ISPA dan Gejalanya\n",
            "\n",
            "Ada beberapa jenis infeksi saluran pernapasan atas akut atau ISPA yang umum terjadi, di antaranya:\n",
            "\n",
            "Rinitis. Flu biasa atau rinitis adalah peradangan pada lapisan rongga hidung. Rinitis pun terbagi menjadi dua jenis utama, yaitu rinitis alergi (dipicu alergen) dan rinitis non-alergi (dipicu virus).\n",
            "\n",
            "Flu biasa atau rinitis adalah peradangan pada lapisan rongga hidung. Rinitis pun terbagi menjadi dua jenis utama, yaitu rinitis alergi (dipicu alergen) dan rinitis non-alergi (dipicu virus). Faringitis. Terjadi karena peradangan di bagian belakang tenggorokan, atau faring. Kondisi ini juga dapat kamu kenal sebagai sakit tenggorokan, yang penyebabnya adalah virus.\n",
            "\n",
            "Terjadi karena peradangan di bagian belakang tenggorokan, atau faring. Kondisi ini juga dapat kamu kenal sebagai sakit tenggorokan, yang penyebabnya adalah virus. Radang amandel. Terjadi ketika amandel di bagian belakang tenggorokan menjadi merah, bengkak, dan sakit. Penyebab radang amandel adalah infeksi virus atau bakteri.\n",
            "\n",
            "Terjadi ketika amandel di bagian belakang tenggorokan menjadi merah, bengkak, dan sakit. Penyebab radang amandel adalah infeksi virus atau bakteri. Laringitis. Peradangan pada laring atau kotak suara, organ yang menghasilkan suara. Penyebab laringitis adalah infeksi virus atau bakteri, tapi paling sering oleh virus.\n",
            "\n",
            "Sementara itu, gejala khas dari ISPA meliputi:\n",
            "\n",
            "Batuk.\n",
            "\n",
            "Pilek.\n",
            "\n",
            "Sakit tenggorokan.\n",
            "\n",
            "Hidung tersumbat.\n",
            "\n",
            "Sakit kepala.\n",
            "\n",
            "Demam.\n",
            "\n",
            "Tekanan di wajah.\n",
            "\n",
            "Bersin.\n",
            "\n",
            "Kelelahan.\n",
            "\n",
            "Gejala seringkali muncul dalam 3 hari setelah terpapar virus atau bakteri. Biasanya berlangsung antara 7 hingga 10 hari. Terkadang, gejala bisa bertahan hingga 3 minggu.\n",
            "\n",
            "Jika kamu mengalami salah satu atau beberapa gejala di atas, ada 6 Hal yang Harus Diperhatikan Pengidap ISPA.\n",
            "\n",
            "Untuk diagnosis, dokter akan melakukan pemeriksaan fisik dan melihat riwayat kesehatan. Dokter juga mungkin akan melihat telinga, hidung, dan tenggorokan, serta mendengarkan pernapasan untuk membuat diagnosa.\n",
            "\n",
            "Itulah yang perlu kamu ketahui tentang perawatan ISPA. Jika kamu atau anggota keluarga mengalami beberapa gejala kondisi ini, sebaiknya segera hubungi dokter di Halodoc mengenai pengobatan yang tepat.✔️\n",
            "\n",
            "Referensi:\n",
            "\n",
            "Healthline. Diakses pada 2023. Acute Upper Respiratory Infection\n",
            "\n",
            "Cleveland Clinic. Diakses pada 2023. Upper Respiratory Infection\n",
            "\n",
            "Healthline. Diakses pada 2023. Acute Respiratory Infection\n",
            "\"Polusi udara bisa mengancam kesehatan anak bahkan berpotensi menghambat pertumbuhannya. Oleh sebab itu, orang tua perlu melakukan serangkaian upaya untuk meminimalisir risiko ini. Salah satunya dengan memberikan masker anak. \"\n",
            "\n",
            "Halodoc, Jakarta – Polusi udara telah menjadi topik hangat dalam beberapa bulan belakangan, sehingga membuat para orang tua khawatir. Alhasil, masker anak kini memiliki peran penting dalam menjaga sistem pernapasan Si Kecil di tengah risiko polusi udara yang meningkat.\n",
            "\n",
            "Masker anak memiliki filter yang dapat menangkap partikel-partikel polusi udara berbahaya seperti debu, asap kendaraan, hingga zat kimia. Di kota-kota yang memiliki tingkat polusi udara tinggi seperti Jakarta, masker amat dibutuhkan. Terutama untuk anak yang harus bersekolah atau beraktivitas di luar ruangan.\n",
            "\n",
            "Rekomendasi Masker Medis Anak\n",
            "\n",
            "Berikut adalah berbagai rekomendasi masker medis anak yang bisa orang tua pertimbangkan:\n",
            "\n",
            "1. Sensi Kids Duckbill Face Mask 3 Ply Earloop 40 Pieces\n",
            "\n",
            "Rekomendasi pertama ada masker duckbill dari Sensi Kids. Masker medis sekali pakai ini memiliki ukuran pas dan desain yang menarik untuk anak 4 tahun ke atas.\n",
            "\n",
            "Sensi Kids duckbill terdiri dari tiga lapisan filter dan berbahan lembut sehingga nyaman untuk anak kenakan.\n",
            "\n",
            "Lapisan tiga lapisnya efektif menyaring partikel debu, kotoran, polusi udara, serta membantu mengurangi paparan mikroorganisme penyebab penyakit pernafasan. Inilah 4 Gangguan Pernapasan pada Anak yang Mesti Diwaspadai.\n",
            "\n",
            "Pasangkan masker anak ini hingga menutupi hidung dan mulut lalu kaitkan ke kedua telinga.\n",
            "\n",
            "Kemudian, sesuaikan bagian atas masker dengan bentuk hidung anak supaya rapat sehingga debu tidak tembus ke dalam.\n",
            "\n",
            "Rentang harga: Rp85.700 – Rp133.900 per box\n",
            "\n",
            "Dapatkan Sensi Kids Duckbill Face Mask 3 Ply Earloop 40 Pieces di Toko Kesehatan Halodoc\n",
            "\n",
            "2. Anytime Child’s Face Mask 5 Pieces\n",
            "\n",
            "Selanjutnya, ada Anytime Child’s Face Mask yang juga efektif melindungi kesehatan anak, terutama saluran pernapasannya.\n",
            "\n",
            "Masker anak ini terdiri dari empat layar proteksi nano filter sehingga mampu menyaring partikel debu,asap, polusi, dan kuman penyebab infeksi.\n",
            "\n",
            "Masker sekali pakai ini juga dilengkapi dengan karet pengait yang lembut sehingga nyaman dipasangkan ke telinga. Anytime Child’s Face Mask bisa digunakan untuk anak usia 1-5 tahun.\n",
            "\n",
            "Rentang harga: Rp8.700 – Rp16.200 per pack\n",
            "\n",
            "Dapatkan Anytime Child’s Face Mask 5 Pieces di Toko Kesehatan Halodoc\n",
            "\n",
            "3. Bagus Pipi Kids Mask 30 Piece\n",
            "\n",
            "Masker anak Bagus Pipi Kids Mask juga bisa ibu pertimbangkan untuk melindungi Si Kecil dari paparan polusi udara.\n",
            "\n",
            "Tak hanya polusi udara saja, masker ini juga efektif mencegah penularan virus berkat tiga lapisan filternya.\n",
            "\n",
            "Tali earloop yang lebar dan elastis yang membuat Si Kecil nyaman menggunakannya. Masker ini cocok untuk anak berusia 5-12 tahun.\n",
            "\n",
            "Rentang harga: Rp80.000 per box\n",
            "\n",
            "Dapatkan Bagus Pipi Kids Mask 30 Piece di Toko Kesehatan Halodoc\n",
            "\n",
            "4. Fit-U Masker Anak 50 Pieces\n",
            "\n",
            "Rekomendasi masker anak selanjutnya, yaitu Fit-U Mask yang mampu mencegah penyebaran infeksi lewat udara atau droplet air liur.\n",
            "\n",
            "Tiga lapisan pelindunganya bisa melindungi saluran pernapasan dan paru-paru dari bau tak sedap, debu, polusi dan partikel udara makro lainnya.\n",
            "\n",
            "Masker Fit-U juga dilengkapi dengan karet spandeks bebas lateks sehingga nyaman dan tidak menyebabkan sakit di telinga.\n",
            "\n",
            "Rentang harga: Rp42.900 – Rp111.500 per box\n",
            "\n",
            "Dapatkan Fit-U Masker Anak 50 Pieces di Toko Kesehatan Halodoc\n",
            "\n",
            "5. Pokana Masker Earloop Kids 5 Pieces (Random Motif)\n",
            "\n",
            "Produk masker anak lain yang bisa dicoba yaitu Pokana Masker Earloop Kids.\n",
            "\n",
            "Masker ini terdiri dari tiga lapisan pelindung sehingga mampu menyaring debu, asap kendaraan, polusi udara, bakteri dan virus.\n",
            "\n",
            "Bukan itu saja, Pokana Masker Earloop Kids juga bisa melindungi anak dari paparan sinar ultraviolet. Lapisan dalamnya yang lembut membuat masker anak ini nyaman saat bersentuhan dengan kulit.\n",
            "\n",
            "Rentang harga: Rp16.900 – Rp39.900 per pack\n",
            "\n",
            "Dapatkan Pokana Masker Earloop Kids 5 Pieces (Random Motif) di Toko Kesehatan Halodoc\n",
            "\n",
            "Dampak Polusi Udara pada Kesehatan Anak\n",
            "\n",
            "Polusi udara memiliki dampak kesehatan yang serius, terutama pada anak-anak yang masih dalam tahap perkembangan dan pertumbuhan.\n",
            "\n",
            "Berikut dampak pada kesehatan anak yang perlu orang tua waspadai:\n",
            "\n",
            "1. Gangguan saluran pernapasan\n",
            "\n",
            "Paparan polusi bisa menimbulkan gangguan pada saluran pernapasan anak. Jika terus terpapar, anak rentan mengalami batuk kronis, pilek, dan infeksi pernapasan yang lebih sering.\n",
            "\n",
            "Polusi udara juga dapat memicu atau memperburuk penyakit seperti asma Hal ini lantas bisa mengganggu proses pertumbuhan dan perkembangan anak.\n",
            "\n",
            "2. Gangguan pertumbuhan paru-paru\n",
            "\n",
            "Terpapar polusi udara dalam jangka panjang bahkan dapat menghambat pertumbuhan paru-paru anak-anak.\n",
            "\n",
            "Artinya, paru-paru Si Kecil mungkin tidak berkembang seperti seharusnya. Gangguan Pernapasan pada Anak, Kapan Harus ke Dokter?\n",
            "\n",
            "Hal ini bisa menimbulkan masalah kesehatan seumur hidup. Itu sebabnya, orang tua sebisa mungkin melakukan serangkaian upaya untuk meminimalisir paparan polusi pada anak. Salah satu upayanya dengan memberikan masker anak.\n",
            "\n",
            "3. Dampak pada fungsi kognitif\n",
            "\n",
            "Penelitian telah menunjukkan bahwa polusi udara dapat memiliki dampak negatif pada fungsi kognitif anak-anak.\n",
            "\n",
            "Hal ini dapat memengaruhi kemampuan belajar dan perkembangan kognitifnya.\n",
            "\n",
            "4. Risiko infeksi yang lebih tinggi\n",
            "\n",
            "Polusi udara dapat melemahkan sistem kekebalan tubuh anak-anak, sehingga membuat mereka lebih rentan terhadap infeksi.\n",
            "\n",
            "Bukan hanya memengaruhi kualitas hidup, anak yang sering sakit juga rentan mengalami masalah pertumbuhan.\n",
            "\n",
            "5. Masalah kesehatan mental\n",
            "\n",
            "Bukan hanya menyasar fisik, polusi udara secara terus menerus dapat berdampak pada kesehatan mental anak-anak.\n",
            "\n",
            "Stres dan ketidaknyamanan akibat polusi udara dapat mengganggu kesejahteraan mental mereka.\n",
            "\n",
            "Itulah rekomendasi masker anak dan dampak polusi udara yang perlu orang tua ketahui.\n",
            "\n",
            "Jika anak mengalami keluhan kesehatan, jangan tunggu parah untuk konsultasi dengan dokter.\n",
            "\n",
            "Klik gambar di bawah ini untuk lakukan konsutltasi dengan dokter anak di Halodoc✔️ bisa melalui chat atau video call dan biaya lebih terjangkau.\n",
            "\n",
            "Referensi:\n",
            "\n",
            "European Environment Agency. Diakses pada 2023. Air pollution and children’s health.\n",
            "\n",
            "World Health Organization. Diakses pada 2023. More than 90% of the world’s children breathe toxic air every day.\n",
            "\n",
            "American Lung Association. Diakses pada 2023. Children and Air Pollution.\n",
            "“Tenggorokan kering karena polusi udara tentu membuat tidak nyaman, terlebih jika sering beraktivitas di luar ruangan. Namun, kamu bisa mengatasi masalah kesehatan ini dengan menggunakan beberapa produk yang memiliki kandungan herbal. ”\n",
            "\n",
            "Halodoc, Jakarta – Tenggorokan kering bisa terjadi karena berbagai kondisi. Misalnya, asupan cairan harian yang tidak terpenuhi atau paparan polusi udara. Namun, masalah ini juga bisa menjadi gejala medis tertentu, seperti infeksi saluran pernapasan. Tentu saja, tenggorokan yang kering membuat siapa saja yang mengalaminya merasa tidak nyaman, baik saat makan, minum, maupun bicara.\n",
            "\n",
            "Pilihan Obat Herbal untuk Tenggorokan Kering karena Polusi Udara\n",
            "\n",
            "Paparan udara berlebihan dapat meningkatkan risiko terserang berbagai gangguan kesehatan. Seringnya adalah Infeksi Saluran Pernapasan Atas (ISPA). Gejalanya sangat bervariasi, salah satunya yang sangat khas adalah tenggorokan kering sehingga kamu lebih sering batuk.\n",
            "\n",
            "Tidak hanya memakai masker saat beraktivitas di luar rumah, kamu juga bisa memakai obat herbal untuk mengatasi tenggorokan kering dan gatal karena polusi udara. Beberapa pilihannya yaitu:\n",
            "\n",
            "1. Sido Muncul Tolak Angin Mint 50 Soft Capsule\n",
            "\n",
            "Pilihan pertama adalah Sido Muncul Tolak Angin Mint Soft Capsule. Obat herbal alami ini banyak menjadi pilihan karena efektif untuk membantu mengatasi berbagai gejala kembung, mual, sakit perut, pusing, meriang dan tenggorokan kering. Selain itu, obat ini menjadi andalan untuk perjalanan jauh, kelelahan, dan kurang tidur. Guna mendukung imunitas tubuh, kamu bisa mengonsumsi sebanyak 2 kapsul selama kurang lebih tujuh hari.\n",
            "\n",
            "Rentang harga: Rp162.600 – Rp188.300 dari Aplikasi Halodoc\n",
            "\n",
            "Dapatkan Sido Muncul Tolak Angin Mint 50 Soft Capsule pada Toko Kesehatan Halodoc!\n",
            "\n",
            "2. Antangin Habbatussauda 5 Sachet\n",
            "\n",
            "Produk herbal untuk tenggorokan kering karena polusi udara dan masalah kesehatan lainnya adalah Antangin Habbatussauda. Sirup herbal ini mengandung Habbatussauda, meniran, dan jahe yang membantu meningkatkan kekebalan tahan tubuh sekaligus meredakan masuk angin, meriang, mual, kembung, pegal, sakit kepala dan melegakan tenggorokan.\n",
            "\n",
            "Rentang harga: Rp4.100 – Rp20.500 dari aplikasi Halodoc\n",
            "\n",
            "Dapatkan Antangin Habbatussauda 5 Sachet pada Toko Kesehatan Halodoc!\n",
            "\n",
            "3. Tolak Angin Bebas Gula 5 Sachet\n",
            "\n",
            "Kamu pasti sudah tidak asing lagi dengan produk satu ini. Obat herbal ini tidak hanya efektif untuk melegakan tenggorokan kering, tetapi juga meringankan berbagai gejala masuk angin lainnya. Misalnya kembung, mual, sakit perut, meriang, pusing, tubuh letih dan lesu. Jadi produk Tolak Angin bebas Gula ini juga aman untuk kamu konsumsi saat perjalanan, kurang tidur, atau merasa kelelahan.\n",
            "\n",
            "Rentang harga: Rp25.600 dari aplikasi Halodoc\n",
            "\n",
            "Dapatkan Tolak Angin Bebas Gula 5 Sachet pada Toko Kesehatan Halodoc!\n",
            "\n",
            "4. Larutan Cap Kaki Tiga Timun Suri 320 ml\n",
            "\n",
            "Larutan Cap Kaki Tiga menjadi produk minuman dengan kandungan gypsum fibrosum, calcitum, dan natrium klorida yang efektif untuk membantu melegakan tenggorokan kering, sariawan, panas dalam, dan sulit buang air besar.\n",
            "\n",
            "Minuman dengan berbagai aneka rasa ini juga bisa menjadi andalan untuk mengembalikan hidrasi tubuh. Guna pengobatan, kamu bisa mengonsumsi ½ sampai 1 kaleng sebanyak 3 kali sehari. Selanjutnya, konsumsi secara rutin sehari sekali sebanyak 1 kaleng.\n",
            "\n",
            "Rentang harga: Rp4.500 – Rp8.200 dari aplikasi Halodoc\n",
            "\n",
            "Dapatkan Larutan Cap Kaki Tiga Timun Suri 320 ml pada Toko Kesehatan Halodoc!\n",
            "\n",
            "5. Lamandel 200 gr\n",
            "\n",
            "Sakit tenggorokan terasa sangat mengganggu kenyamanan? Coba gunakan Lamandel, obat herbal yang efektif untuk meringankan rasa nyeri karena tenggorokan kering. Produk ini mengandung Stachytarpheta Mutabilis Folium 30 miligram, Centella Asiatica Herba 30 miligram, dan Curcuma Xanthorrhiza Rhizoma 30 miligram.\n",
            "\n",
            "Dosis pemakaiannya adalah 3 kali sehari untuk pengobatan dan 1 kali sehari untuk menjaga kesehatan. Caranya dengan melarutkan 2 sendok teh dalam 150 mililiter air hangat.\n",
            "\n",
            "Rentang harga: Rp33.600 – Rp60.500 dari aplikasi Halodoc\n",
            "\n",
            "Dapatkan Lamandel 200 gr pada Toko Kesehatan Halodoc!\n",
            "\n",
            "Itu tadi beberapa pilihan produk herbal yang bisa membantu meringankan masalah tenggorokan kering karena polusi udara. Supaya bisa mendapatkan penanganan yang tepat, sebaiknya kamu mengenali penyebab tenggorokan terasa kering dan nyeri. Baca lebih lanjut pada artikel berjudul 5 Cara Mengatasi Tenggorokan Kering Berdasarkan Penyebabnya.\n",
            "\n",
            "Jika tenggorokan kering tidak membaik meski kamu sudah menggunakan produk herbal, jangan ragu untuk bertanya pada dokter penanganan lain yang lebih efektif. Chat dokter umum secara online lebih mudah dan praktis hanya melalui aplikasi Halodoc.\n",
            "\n",
            "Referensi:\n",
            "\n",
            "Healthline. Diakses pada 2023. What Causes Dry Throat, and How Is It Treated?\n",
            "\n",
            "Medical News Today. Diakses pada 2023. How Do You Cure a Dry Throat?\n",
            "“Setelah pandemi COVID-19, masalah kesehatan yang terjadi belakangan ini adalah polusi udara. Pemerintah pun kembali mengimbau agar masyarakat mengenakan masker medis saat berada di luar ruangan untuk menangkal bahaya polusi udara.”\n",
            "\n",
            "Halodoc, Jakarta – Kamu tentu telah mengetahui bahwa kualitas udara di beberapa daerah, seperti Jakarta, Tangerang, Bekasi, dan sekitarnya sedang buruk. Adanya peristiwa ini, pemerintah mengimbau agar masyarakat menggunakan masker medis setiap keluar rumah sebagai upaya pencegahan dampak polusi udara.\n",
            "\n",
            "Perlu kamu waspadai, polusi udara memiliki dampak besar pada kesehatan manusia. Paparan polusi dalam jangka pendek dan jangka panjang dapat menyebabkan berbagai penyakit. Contohnya infeksi saluran pernapasan akut (ISPA), stroke, penyakit paru obstruktif kronik (PPOK), hingga kanker trakea.\n",
            "\n",
            "Rekomendasi Masker Medis Penangkal Polusi Udara\n",
            "\n",
            "Penggunaan masker medis merupakan salah satu upaya yang bisa kamu lakukan untuk mencegah dampak buruk dari polusi udara.\n",
            "\n",
            "Masker medis berfungsi cukup baik untuk menyaring partikel terkecil dari polusi.\n",
            "\n",
            "Berikut ini rekomendasi masker medis sekali pakai yang bisa jadi pilihanmu:\n",
            "\n",
            "1. Sensi KN95 Protective Mask White 20 Pieces\n",
            "\n",
            "Masker medis yang cukup mudah kamu temukan yaitu Sensi KN95 Protective Mask White. Masker ini dapat kamu gunakan untuk menutup hidung dan mulut, dan ia bekerja dengan menyaring 95 persen partikel yang sangat kecil.\n",
            "\n",
            "Dengan begitu, masker ini efektif untuk kamu gunakan khususnya mencegah terhirupnya polusi.\n",
            "\n",
            "Selain itu, kamu juga bisa terhindar dari penularan penyakit dari tetesan cairan tubuh yang keluar dari hidung atau mulut, serta terlindungi dari bakteri, virus, debu, serbuk sari, asap kendaraan, dan polusi udara.\n",
            "\n",
            "Kamu bisa mendapatkan masker medis ini dengan kisaran harga Rp130.800 – Rp152.100.\n",
            "\n",
            "Dapatkan Sensi KN95 Protective Mask White 20 Pieces Di Toko Kesehatan Halodoc.\n",
            "\n",
            "2. Masker KN95 10 Pieces\n",
            "\n",
            "Rekomendasi masker medis selanjutnya yaitu Masker KN95, merupakan masker penutup wajah yang dapat kamu gunakan untuk menutup hidung dan mulut.\n",
            "\n",
            "Sama dengan produk masker sebelumnya, masker medis ini juga dapat menyaring 95 persen partikel yang sangat kecil, sehingga sangat efektif untuk kamu gunakan saat udara kotor karena adanya polusi udara.\n",
            "\n",
            "Perlu kamu ketahui, masker medis KN95 memiliki sedikit perbedaan dengan N95. Baca artikel ini lebih lanjut untuk memahami perbedaannya: Masker N95 vs KN95, Kenali Perbedaan Keduanya\n",
            "\n",
            "Kamu bisa mendapatkan masker medis ini dengan kisaran harga Rp11.600 – Rp80.600.\n",
            "\n",
            "Dapatkan Masker KN95 10 Pieces Di Toko Kesehatan Halodoc.\n",
            "\n",
            "3. Bagus Surgical Mask 50 Pieces\n",
            "\n",
            "Kamu juga bisa mencegah bahaya polusi udara dengan menggunakan Bagus Surgical Mask.\n",
            "\n",
            "Masker medis ini adalah masker yang dapat kamu gunakan dalam beraktivitas sehari-hari, karena memiliki earloop yang lebih besar sehingga lebih nyaman.\n",
            "\n",
            "Masker ini memiliki 3 lapisan pelindung yang lebih tebal, sehingga mampu menyaring partikel kecil, droplets, dan bakteri lebih dari 98 persen.\n",
            "\n",
            "Selain itu, masker medis ini memiliki kelengkapan lapisan meltblown non-woven untuk menyaring virus dan bakteri.\n",
            "\n",
            "Kamu bisa mendapatkan masker ini dengan kisaran harga sekitar Rp168.700 – Rp183.400\n",
            "\n",
            "Dapatkan Bagus Surgical Mask 50 Pieces Di Toko Kesehatan Halodoc.\n",
            "\n",
            "4. Masker 3M Respirator KF94 1 Pieces\n",
            "\n",
            "Selain itu, kamu juga bisa menggunakan Masker 3M Respirator KF94 untuk mencegah bahaya polusi udara. Masker medis ini memiliki desain khusus agar nyaman digunakan dan lebih mudah bernapas.\n",
            "\n",
            "Masker ini juga memberikan perlindungan dari percikan batuk dan pilek, PM 2.5, Kabut asap, dan asap kendaraan bermotor.\n",
            "\n",
            "Kamu juga dapat menyesuaikan masker ini agar lebih rapat di wajah dan hidung untuk perlindungan maksima. Produk ini memiliki klaim efisiensi filter hingga 94 persen.\n",
            "\n",
            "Kamu bisa mendapatkan masker medis ini dengan kisaran harga Rp17.300 – Rp28.800.\n",
            "\n",
            "Dapatkan Masker 3M Respirator KF94 1 Pieces Di Toko Kesehatan Halodoc.\n",
            "\n",
            "5. Kaisin Surgical Mask KF94 20 Pieces\n",
            "\n",
            "Untuk penggunaan sehari-hari saat keluar rumah, kamu juga bisa menggunakan Kaisin Surgical Mask KF94 sebagai upaya mencegah bahaya polosi.\n",
            "\n",
            "Produk masker ini memiliki kemampuan menghambat bakteri berbahaya dan partikel ukuran besar. Selain itu, masker medis ini dapat menyerap elektrostatik debu dan mikro berkat adanya filtrasi yang lebih kecil.\n",
            "\n",
            "Kamu bisa mendapatkan masker ini dengan kisaran harga Rp28.800 – Rp73.00.\n",
            "\n",
            "Dapatkan Kaisin Surgical Mask KF94 20 Pieces Di Toko Kesehatan Halodoc.\n",
            "\n",
            "Perlu kamu perhatikan juga, masker medis ini hanya dapat kamu gunakan sekali pakai. Hindari menggunakan satu masker secara berkali-kali di hari yang berbeda.\n",
            "\n",
            "Agar masker melindungi dengan maksimal, pastikan juga untuk mengenakan masker hingga menutupi hidung dan mulut.\n",
            "\n",
            "Kemudian pada bagian atas masker, kamu bisa sesuaikan dengan bentuk hidung agar meminimalisasi kontak hidung dengan udara luar.\n",
            "\n",
            "Mengenai cara memakai masker yang benar juga bisa kamu baca lebih lanjut di artikel ini: Cara Memakai Masker agar Mencegah Penyakit\n",
            "\n",
            "Temukan produk masker dan nasal lainnya yang lebih lengkap hanya di Toko Kesehatan Halodoc melalui banner di bawah ini.✔️\n",
            "\n",
            "Cara Lain Menangkal Polusi Udara di Rumah\n",
            "\n",
            "Selain melakukan pencegahan saat berada di luar ruangan, kamu juga perlu meminimalisasi polusi udara di rumah.\n",
            "\n",
            "Berikut ini beberapa cara untuk menangkal polusi udara saat berada di rumah:\n",
            "\n",
            "Hindari merokok di dalam ruangan, akan tetapi lebih baik lagi jika kamu berhenti merokok.\n",
            "\n",
            "Pastikan ruangan dapur atau ruangan yang terdapat kompor memiliki ventilasi yang baik.\n",
            "\n",
            "Hindari menggunakan karpet berbulu jika memungkinkan.\n",
            "\n",
            "Gunakan humidifier dan AC untuk mengurangi kelembapan.\n",
            "\n",
            "Tutupi sampah agar tidak menarik perhatian hama.\n",
            "\n",
            "Lepaskan sepatu sebelum masuk ke dalam rumah.\n",
            "\n",
            "Lakukan uji emisi mobil pribadi secara berkala.\n",
            "\n",
            "Minimalisasi penggunaan pengharum ruangan.\n",
            "\n",
            "Gunakan detektor karbon monoksida.\n",
            "\n",
            "Perbaiki kebocoran air segera.\n",
            "\n",
            "Bersihkan permukaan lantai dan sedot debu sesering mungkin.\n",
            "\n",
            "Cuci alas tempat tidur setiap minggu dengan air panas.\n",
            "\n",
            "Pastikan kipas angin berfungsi di kamar mandi dan dapur.\n",
            "\n",
            "Hindari penggunaan lilin beraroma.\n",
            "\n",
            "Itulah beberapa rekomendasi masker medis untuk menangkal polusi udara saat berada di luar ruangan.\n",
            "\n",
            "Jika kamu atau anggota keluarga mengalami gangguan pernapasan atau ISPA akibat polusi udara akhir-akhir ini, segera hubungi dokter di Halodoc untuk mendapatkan pengobatan.✔️\n",
            "\n",
            "Referensi:\n",
            "\n",
            "Cleveland Clinic. Diakses pada 2023. 17 Simple Ways to Prevent Air Pollution in Your Home\n",
            "\n",
            "American Lung Association. Diakses pada 2023. The Terrible 10: Air Pollution’s Top 10 Health Risks\n"
          ]
        }
      ]
    },
    {
      "cell_type": "markdown",
      "source": [
        "**3.DATA EXPLORATION:**"
      ],
      "metadata": {
        "id": "-0WudkAXtMH0"
      }
    },
    {
      "cell_type": "markdown",
      "source": [
        "**(Tokenization)**\n",
        "\n",
        "Tokenizing merupakan proses pemisahan teks atau kalimat menjadi potongan kata yang disebut token yang kemudian di analisa. Tokenizing juga dibagi menjadi 2 jenis, yaitu tokenizing kata dan tokenizing kalimat. Tokenizing kata memisah sebuah kalimat dengan hasil potongan-potongan kata dari kalimat yang dipotong yang kemudian dijadikan token, sedangkan tokenizing kalimat digunakan memisah kalimat-kalimat yang ada dalam sebuah paragraf.\n",
        "\n",
        "Setelah dipecah atau dianalisa teks atau \"tokenizing\", kita sekarang akan mencetak kalimat dengan print(sentence_list)."
      ],
      "metadata": {
        "id": "Pgzpmi8d12kK"
      }
    },
    {
      "cell_type": "code",
      "source": [
        "# Tokenization\n",
        "text = corpus\n",
        "sentence_list = nltk.sent_tokenize(text) #A list of senetences\n",
        "\n",
        "\n",
        "# Print the list of sentences\n",
        "print(sentence_list)"
      ],
      "metadata": {
        "colab": {
          "base_uri": "https://localhost:8080/"
        },
        "id": "qIvirIV421Z4",
        "outputId": "fe672685-8bbe-4953-b239-1124e0e35686"
      },
      "execution_count": 6,
      "outputs": [
        {
          "output_type": "stream",
          "name": "stdout",
          "text": [
            "['“Setelah pandemi COVID-19, masalah kesehatan yang terjadi belakangan ini adalah polusi udara.', 'Pemerintah pun kembali mengimbau agar masyarakat mengenakan masker medis saat berada di luar ruangan untuk menangkal bahaya polusi udara.”\\n\\nHalodoc, Jakarta – Kamu tentu telah mengetahui bahwa kualitas udara di beberapa daerah, seperti Jakarta, Tangerang, Bekasi, dan sekitarnya sedang buruk.', 'Adanya peristiwa ini, pemerintah mengimbau agar masyarakat menggunakan masker medis setiap keluar rumah sebagai upaya pencegahan dampak polusi udara.', 'Perlu kamu waspadai, polusi udara memiliki dampak besar pada kesehatan manusia.', 'Paparan polusi dalam jangka pendek dan jangka panjang dapat menyebabkan berbagai penyakit.', 'Contohnya infeksi saluran pernapasan akut (ISPA), stroke, penyakit paru obstruktif kronik (PPOK), hingga kanker trakea.', 'Rekomendasi Masker Medis Penangkal Polusi Udara\\n\\nPenggunaan masker medis merupakan salah satu upaya yang bisa kamu lakukan untuk mencegah dampak buruk dari polusi udara.', 'Masker medis berfungsi cukup baik untuk menyaring partikel terkecil dari polusi.', 'Berikut ini rekomendasi masker medis sekali pakai yang bisa jadi pilihanmu:\\n\\n1.', 'Sensi KN95 Protective Mask White 20 Pieces\\n\\nMasker medis yang cukup mudah kamu temukan yaitu Sensi KN95 Protective Mask White.', 'Masker ini dapat kamu gunakan untuk menutup hidung dan mulut, dan ia bekerja dengan menyaring 95 persen partikel yang sangat kecil.', 'Dengan begitu, masker ini efektif untuk kamu gunakan khususnya mencegah terhirupnya polusi.', 'Selain itu, kamu juga bisa terhindar dari penularan penyakit dari tetesan cairan tubuh yang keluar dari hidung atau mulut, serta terlindungi dari bakteri, virus, debu, serbuk sari, asap kendaraan, dan polusi udara.', 'Kamu bisa mendapatkan masker medis ini dengan kisaran harga Rp130.800 – Rp152.100.', 'Dapatkan Sensi KN95 Protective Mask White 20 Pieces Di Toko Kesehatan Halodoc.', '2.', 'Masker KN95 10 Pieces\\n\\nRekomendasi masker medis selanjutnya yaitu Masker KN95, merupakan masker penutup wajah yang dapat kamu gunakan untuk menutup hidung dan mulut.', 'Sama dengan produk masker sebelumnya, masker medis ini juga dapat menyaring 95 persen partikel yang sangat kecil, sehingga sangat efektif untuk kamu gunakan saat udara kotor karena adanya polusi udara.', 'Perlu kamu ketahui, masker medis KN95 memiliki sedikit perbedaan dengan N95.', 'Baca artikel ini lebih lanjut untuk memahami perbedaannya: Masker N95 vs KN95, Kenali Perbedaan Keduanya\\n\\nKamu bisa mendapatkan masker medis ini dengan kisaran harga Rp11.600 – Rp80.600.', 'Dapatkan Masker KN95 10 Pieces Di Toko Kesehatan Halodoc.', '3.', 'Bagus Surgical Mask 50 Pieces\\n\\nKamu juga bisa mencegah bahaya polusi udara dengan menggunakan Bagus Surgical Mask.', 'Masker medis ini adalah masker yang dapat kamu gunakan dalam beraktivitas sehari-hari, karena memiliki earloop yang lebih besar sehingga lebih nyaman.', 'Masker ini memiliki 3 lapisan pelindung yang lebih tebal, sehingga mampu menyaring partikel kecil, droplets, dan bakteri lebih dari 98 persen.', 'Selain itu, masker medis ini memiliki kelengkapan lapisan meltblown non-woven untuk menyaring virus dan bakteri.', 'Kamu bisa mendapatkan masker ini dengan kisaran harga sekitar Rp168.700 – Rp183.400\\n\\nDapatkan Bagus Surgical Mask 50 Pieces Di Toko Kesehatan Halodoc.', '4.', 'Masker 3M Respirator KF94 1 Pieces\\n\\nSelain itu, kamu juga bisa menggunakan Masker 3M Respirator KF94 untuk mencegah bahaya polusi udara.', 'Masker medis ini memiliki desain khusus agar nyaman digunakan dan lebih mudah bernapas.', 'Masker ini juga memberikan perlindungan dari percikan batuk dan pilek, PM 2.5, Kabut asap, dan asap kendaraan bermotor.', 'Kamu juga dapat menyesuaikan masker ini agar lebih rapat di wajah dan hidung untuk perlindungan maksima.', 'Produk ini memiliki klaim efisiensi filter hingga 94 persen.', 'Kamu bisa mendapatkan masker medis ini dengan kisaran harga Rp17.300 – Rp28.800.', 'Dapatkan Masker 3M Respirator KF94 1 Pieces Di Toko Kesehatan Halodoc.', '5.', 'Kaisin Surgical Mask KF94 20 Pieces\\n\\nUntuk penggunaan sehari-hari saat keluar rumah, kamu juga bisa menggunakan Kaisin Surgical Mask KF94 sebagai upaya mencegah bahaya polosi.', 'Produk masker ini memiliki kemampuan menghambat bakteri berbahaya dan partikel ukuran besar.', 'Selain itu, masker medis ini dapat menyerap elektrostatik debu dan mikro berkat adanya filtrasi yang lebih kecil.', 'Kamu bisa mendapatkan masker ini dengan kisaran harga Rp28.800 – Rp73.00.', 'Dapatkan Kaisin Surgical Mask KF94 20 Pieces Di Toko Kesehatan Halodoc.', 'Perlu kamu perhatikan juga, masker medis ini hanya dapat kamu gunakan sekali pakai.', 'Hindari menggunakan satu masker secara berkali-kali di hari yang berbeda.', 'Agar masker melindungi dengan maksimal, pastikan juga untuk mengenakan masker hingga menutupi hidung dan mulut.', 'Kemudian pada bagian atas masker, kamu bisa sesuaikan dengan bentuk hidung agar meminimalisasi kontak hidung dengan udara luar.', 'Mengenai cara memakai masker yang benar juga bisa kamu baca lebih lanjut di artikel ini: Cara Memakai Masker agar Mencegah Penyakit\\n\\nTemukan produk masker dan nasal lainnya yang lebih lengkap hanya di Toko Kesehatan Halodoc melalui banner di bawah ini.✔️\\n\\nCara Lain Menangkal Polusi Udara di Rumah\\n\\nSelain melakukan pencegahan saat berada di luar ruangan, kamu juga perlu meminimalisasi polusi udara di rumah.', 'Berikut ini beberapa cara untuk menangkal polusi udara saat berada di rumah:\\n\\nHindari merokok di dalam ruangan, akan tetapi lebih baik lagi jika kamu berhenti merokok.', 'Pastikan ruangan dapur atau ruangan yang terdapat kompor memiliki ventilasi yang baik.', 'Hindari menggunakan karpet berbulu jika memungkinkan.', 'Gunakan humidifier dan AC untuk mengurangi kelembapan.', 'Tutupi sampah agar tidak menarik perhatian hama.', 'Lepaskan sepatu sebelum masuk ke dalam rumah.', 'Lakukan uji emisi mobil pribadi secara berkala.', 'Minimalisasi penggunaan pengharum ruangan.', 'Gunakan detektor karbon monoksida.', 'Perbaiki kebocoran air segera.', 'Bersihkan permukaan lantai dan sedot debu sesering mungkin.', 'Cuci alas tempat tidur setiap minggu dengan air panas.', 'Pastikan kipas angin berfungsi di kamar mandi dan dapur.', 'Hindari penggunaan lilin beraroma.', 'Itulah beberapa rekomendasi masker medis untuk menangkal polusi udara saat berada di luar ruangan.', 'Jika kamu atau anggota keluarga mengalami gangguan pernapasan atau ISPA akibat polusi udara akhir-akhir ini, segera hubungi dokter di Halodoc untuk mendapatkan pengobatan.✔️\\n\\nReferensi:\\n\\nCleveland Clinic.', 'Diakses pada 2023.', '17 Simple Ways to Prevent Air Pollution in Your Home\\n\\nAmerican Lung Association.', 'Diakses pada 2023.', 'The Terrible 10: Air Pollution’s Top 10 Health Risks']\n"
          ]
        }
      ]
    },
    {
      "cell_type": "markdown",
      "source": [
        "**(Bot Response)**\n",
        "\n",
        "Bot respon digunakan untuk membuat sebuah percakapan awal antara pengguna dengan bot, jadi disini user dapat menyapa bot,\n",
        "\n",
        "Pada percakapan awal tidak menggunakan ML atau metode lainnya, program hanya menjawab dengan kata yang di cocokkan sebagai input."
      ],
      "metadata": {
        "id": "tekIHweS15SQ"
      }
    },
    {
      "cell_type": "code",
      "source": [
        "#a function to return a random greeting response to a users greeting\n",
        "def greeting_response(text):\n",
        "    text = text.lower()\n",
        "\n",
        "    #Bots greeting respone\n",
        "    bot_greetings = ['Halo..> Mau Tanya apa kamu tentang PakaiRasy..?']\n",
        "\n",
        "    #Users greeting\n",
        "    user_greetings = ['Halo', 'halo', 'HALO', 'Hai', 'hai', 'HAI' ]\n",
        "\n",
        "    for word in text.split():\n",
        "        if word in user_greetings:\n",
        "            return random.choice(bot_greetings)\n",
        "\n",
        "    #Random response to greeting\n",
        "    def gratitude_response(text):\n",
        "        text=text.lower()"
      ],
      "metadata": {
        "id": "uYe-ZZ7q2_c-"
      },
      "execution_count": 7,
      "outputs": []
    },
    {
      "cell_type": "markdown",
      "source": [
        "-Pada list kode bot_greetings itu bentuk kata sapaan bot terhadap sapaan yang kita berikan,\n",
        "\n",
        "-Sedangkan, pada list user_greetings itu kata sapaan input dari user"
      ],
      "metadata": {
        "id": "MfTFKv8a2CbC"
      }
    },
    {
      "cell_type": "markdown",
      "source": [
        "**Sorting List**"
      ],
      "metadata": {
        "id": "vDzHy0Wv2M8U"
      }
    },
    {
      "cell_type": "code",
      "source": [
        " def index_sort(list_var):\n",
        "    length = len(list_var)\n",
        "    list_index = list(range(0, length))\n",
        "\n",
        "    x = list_var\n",
        "    for i in range(length):\n",
        "        for j in range(length):\n",
        "            if x[list_index[i]] > x[list_index[j]]:\n",
        "                #swap\n",
        "                temp = list_index[i]\n",
        "                list_index[i] = list_index[j]\n",
        "                list_index[j] = temp\n",
        "\n",
        "    return list_index"
      ],
      "metadata": {
        "id": "6g0L6_o63Ipz"
      },
      "execution_count": 8,
      "outputs": []
    },
    {
      "cell_type": "markdown",
      "source": [
        "**4.MODELING DAN EVALUATION:**"
      ],
      "metadata": {
        "id": "a-iR8ty1taZY"
      }
    },
    {
      "cell_type": "markdown",
      "source": [
        "**Chatbot Respon Menggunakan Cosine Similarity**\n",
        "\n",
        "Pada respon bot menggunakan teknis Cosine Similarity untuk menghitung kata yang cocok dengan yang di input user terhadap respon dari Bot"
      ],
      "metadata": {
        "id": "iMqo1Ugf2UvM"
      }
    },
    {
      "cell_type": "code",
      "source": [
        "# Creat Bots Response\n",
        "def bot_response(user_input):\n",
        "    user_input=user_input.lower()\n",
        "    sentence_list.append(user_input)\n",
        "    bot_response= ''\n",
        "    cm=CountVectorizer().fit_transform(sentence_list)\n",
        "    similarity_scores=cosine_similarity(cm[-1],cm)\n",
        "    similarity_scores_list=similarity_scores.flatten()\n",
        "    index=index_sort(similarity_scores_list)\n",
        "    index=index[1:]\n",
        "    response_flag=0\n",
        "\n",
        "    j=0\n",
        "    for i in range(len(index)):\n",
        "        if similarity_scores_list[index[i]]>0.0:\n",
        "            bot_response=bot_response+' '+sentence_list[index[i]]\n",
        "            response_flag=1\n",
        "            j=j+1\n",
        "        if j>2:\n",
        "            break\n",
        "\n",
        "        if response_flag==0:\n",
        "            bot_response=bot_response+\" \"+\"Maaf saya tidak mengetahui arti atau tidak mengenali kata-kata yang di input\"\n",
        "\n",
        "        sentence_list.remove(user_input)\n",
        "\n",
        "        return bot_response"
      ],
      "metadata": {
        "id": "DRr2KOPm3Nr-"
      },
      "execution_count": 9,
      "outputs": []
    },
    {
      "cell_type": "markdown",
      "source": [
        "**(End Process, Making chat box)**"
      ],
      "metadata": {
        "id": "xreN7giC2bO8"
      }
    },
    {
      "cell_type": "code",
      "source": [
        "\n",
        "#Start Chat\n",
        "print(\"ChatPakaiRasy: Silahkan Masukkan Pertanyaan\")\n",
        "\n",
        "exit_list=['exit','keluar','bye','quit', 'sampai jumpa']\n",
        "\n",
        "while(True):\n",
        "    user_input=input()\n",
        "    if user_input.lower() in exit_list:\n",
        "        print('ChatPakaiRasy: OKE.. Bye Sampai jumpa lagi')\n",
        "        break\n",
        "    else:\n",
        "        if greeting_response(user_input)!= None:\n",
        "            print('ChatPakaiRasy: '+ greeting_response(user_input))\n",
        "        else:\n",
        "            print('ChatPakaiRasy: '+ bot_response(user_input))\n",
        "            tts = gTTS(bot_response(user_input), lang='id')\n",
        "            tts.save('audio.wav')\n",
        "            time.sleep(0.08)\n",
        "            #print(\"Kamu:\\n\")\n",
        "            #ipd.display(ipd.Audio('audio.wav', autoplay=True))\n",
        "\n",
        "            print(\"=\"*60 + \"\\n\")"
      ],
      "metadata": {
        "colab": {
          "base_uri": "https://localhost:8080/"
        },
        "id": "Odc0Snk530nP",
        "outputId": "56a4449f-920b-4e59-8c04-c6b5bee1438c"
      },
      "execution_count": 11,
      "outputs": [
        {
          "output_type": "stream",
          "name": "stdout",
          "text": [
            "ChatPakaiRasy: Silahkan Masukkan Pertanyaan\n",
            "hai\n",
            "ChatPakaiRasy: Halo..> Mau Tanya apa kamu tentang PakaiRasy..?\n",
            "upaya pencegahan dampak polusi udara\n",
            "ChatPakaiRasy:  Adanya peristiwa ini, pemerintah mengimbau agar masyarakat menggunakan masker medis setiap keluar rumah sebagai upaya pencegahan dampak polusi udara.\n",
            "============================================================\n",
            "\n",
            "bye\n",
            "ChatPakaiRasy: OKE.. Bye Sampai jumpa lagi\n"
          ]
        }
      ]
    }
  ]
}