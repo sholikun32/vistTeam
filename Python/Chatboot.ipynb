{
  "nbformat": 4,
  "nbformat_minor": 0,
  "metadata": {
    "colab": {
      "provenance": [],
      "authorship_tag": "ABX9TyO9+4wkwAsyx10LEzz6YF98",
      "include_colab_link": true
    },
    "kernelspec": {
      "name": "python3",
      "display_name": "Python 3"
    },
    "language_info": {
      "name": "python"
    }
  },
  "cells": [
    {
      "cell_type": "markdown",
      "metadata": {
        "id": "view-in-github",
        "colab_type": "text"
      },
      "source": [
        "<a href=\"https://colab.research.google.com/github/sholikun32/vistTeam/blob/main/Python/Chatboot.ipynb\" target=\"_parent\"><img src=\"https://colab.research.google.com/assets/colab-badge.svg\" alt=\"Open In Colab\"/></a>"
      ]
    },
    {
      "cell_type": "code",
      "execution_count": 1,
      "metadata": {
        "colab": {
          "base_uri": "https://localhost:8080/"
        },
        "id": "D1lo7rlIP8tA",
        "outputId": "b52621f4-a73b-4b3d-b4b1-4e399464d3d7"
      },
      "outputs": [
        {
          "output_type": "stream",
          "name": "stdout",
          "text": [
            "Chatbot: Halo! Saya adalah chatbot informasi tentang penyakit pernapasan dan polusi udara. Silakan ajukan pertanyaan Anda.\n",
            "Anda: udara\n",
            "Chatbot: Maaf, saya tidak mengerti pertanyaan Anda.\n",
            "Anda: polusi udara\n",
            "Chatbot: Maaf, saya tidak mengerti pertanyaan Anda.\n",
            "Anda: keluar\n",
            "Chatbot: Sampai jumpa!\n"
          ]
        }
      ],
      "source": [
        "import nltk\n",
        "from nltk.chat.util import Chat, reflections\n",
        "\n",
        "# Definisikan aturan-aturan percakapan\n",
        "rules = [\n",
        "    (r'(.*) penyakit pernapasan (.*)', ['Penyakit pernapasan adalah kondisi medis yang memengaruhi sistem pernapasan. Anda dapat mencari informasi lebih lanjut di situs web resmi Kementerian Kesehatan.']),\n",
        "    (r'(.*) polusi udara (.*)', ['Polusi udara adalah kontaminasi udara dengan substansi berbahaya. Anda dapat mengecek tingkat polusi udara saat ini di situs web Badan Lingkungan Hidup.']),\n",
        "    (r'(.*)', ['Maaf, saya tidak mengerti pertanyaan Anda.']),\n",
        "]\n",
        "\n",
        "# Inisialisasi chatbot\n",
        "chatbot = Chat(rules, reflections)\n",
        "\n",
        "print(\"Chatbot: Halo! Saya adalah chatbot informasi tentang penyakit pernapasan dan polusi udara. Silakan ajukan pertanyaan Anda.\")\n",
        "\n",
        "# Loop percakapan\n",
        "while True:\n",
        "    user_input = input(\"Anda: \")\n",
        "    if user_input.lower() == 'keluar':\n",
        "        print(\"Chatbot: Sampai jumpa!\")\n",
        "        break\n",
        "    else:\n",
        "        response = chatbot.respond(user_input)\n",
        "        print(\"Chatbot:\", response)"
      ]
    }
  ]
}